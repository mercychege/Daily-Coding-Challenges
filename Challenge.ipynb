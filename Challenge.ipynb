{
 "cells": [
  {
   "cell_type": "markdown",
   "metadata": {},
   "source": [
    "### Best Time To Buy and Sell Stock\n",
    "\n",
    "You are given an array prices where price[i] is the price of a given stock on the ith day.\n",
    "\n",
    "Input: prices =[7,1,5,3,6,4]\n",
    "\n",
    "Output: 5\n",
    "\n",
    "Explanation: Buy on day 2 (price = 1) and sell on day 5 (price = 6), \n",
    "\n",
    "profit = 6 - 1 =5.\n",
    "\n",
    "Note that buying on day 2 and selling on day 1 is not allowed because you must buy before you sell.\n",
    "\n"
   ]
  },
  {
   "cell_type": "code",
   "execution_count": 1,
   "metadata": {},
   "outputs": [
    {
     "name": "stdout",
     "output_type": "stream",
     "text": [
      "Buy on day 2 when price is 1\n",
      "Wait to sell at a later date.\n"
     ]
    }
   ],
   "source": [
    "prices = [7,1,5,3,6,4]\n",
    "\n",
    "def stocks(output):\n",
    "    if output > 0:\n",
    "        buy = {}\n",
    "        sell = {}\n",
    "\n",
    "        for i, k in enumerate(prices): \n",
    "            if (k <= int(output)):\n",
    "                buy[i+1] = k\n",
    "\n",
    "        print(\"Buy on day\" , min(buy, key=buy.get), \"when price is\", buy[(min(buy, key=buy.get))])\n",
    "\n",
    "        index = prices.index(buy[(min(buy, key=buy.get))])\n",
    "\n",
    "        for i in range(index, len(prices)):\n",
    "            if (prices[i] > int(output)):\n",
    "                sell[i+1] = prices[i]\n",
    "        if sell:\n",
    "            print(\"Sell on day\" , max(sell, key=sell.get), \"when price is\", sell[(max(sell, key=sell.get))])\n",
    "            x=int(sell[(max(sell, key=sell.get))])\n",
    "            y= int(buy[(min(buy, key=buy.get))])\n",
    "            profit = x-y\n",
    "            print(\"Maximum profit is\", profit )\n",
    "        else:\n",
    "            print(\"Wait to sell at a later date.\")\n",
    "    else:\n",
    "        print(\"To buy you have a price greater than \" , output)\n",
    "       \n",
    "stocks(10)\n",
    "        "
   ]
  }
 ],
 "metadata": {
  "kernelspec": {
   "display_name": "Python 3 (ipykernel)",
   "language": "python",
   "name": "python3"
  },
  "language_info": {
   "codemirror_mode": {
    "name": "ipython",
    "version": 3
   },
   "file_extension": ".py",
   "mimetype": "text/x-python",
   "name": "python",
   "nbconvert_exporter": "python",
   "pygments_lexer": "ipython3",
   "version": "3.9.13"
  }
 },
 "nbformat": 4,
 "nbformat_minor": 2
}
