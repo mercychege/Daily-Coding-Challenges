{
 "cells": [
  {
   "cell_type": "markdown",
   "metadata": {},
   "source": [
    "### Best Time To Buy and Sell Stock\n",
    "\n",
    "You are given an array prices where price[i] is the price of a given stock on the ith day.\n",
    "\n",
    "Input: prices =[7,1,5,3,6,4]\n",
    "\n",
    "Output: 5\n",
    "\n",
    "Explanation: Buy on day 2 (price = 1) and sell on day 5 (price = 6), \n",
    "\n",
    "profit = 6 - 1 =5.\n",
    "\n",
    "Note that buying on day 2 and selling on day 1 is not allowed because you must buy before you sell.\n",
    "\n"
   ]
  },
  {
   "cell_type": "code",
   "execution_count": 1,
   "metadata": {},
   "outputs": [
    {
     "name": "stdout",
     "output_type": "stream",
     "text": [
      "Buy on day 2 when price is 1\n",
      "Sell on day 5 when price is 6\n",
      "Maximum profit is 5\n"
     ]
    }
   ],
   "source": [
    "prices = [7,1,5,3,6,4]\n",
    "\n",
    "def stocks(output):\n",
    "    if output > 0:\n",
    "        buy = {}\n",
    "        sell = {}\n",
    "\n",
    "        for i, k in enumerate(prices): \n",
    "            if (k <= int(output)):\n",
    "                buy[i+1] = k\n",
    "\n",
    "        print(\"Buy on day\" , min(buy, key=buy.get), \"when price is\", buy[(min(buy, key=buy.get))])\n",
    "\n",
    "        index = prices.index(buy[(min(buy, key=buy.get))])\n",
    "\n",
    "        for i in range(index, len(prices)):\n",
    "            if (prices[i] > int(output)):\n",
    "                sell[i+1] = prices[i]\n",
    "        if sell:\n",
    "            print(\"Sell on day\" , max(sell, key=sell.get), \"when price is\", sell[(max(sell, key=sell.get))])\n",
    "            x=int(sell[(max(sell, key=sell.get))])\n",
    "            y= int(buy[(min(buy, key=buy.get))])\n",
    "            profit = x-y\n",
    "            print(\"Maximum profit is\", profit )\n",
    "        else:\n",
    "            print(\"Wait to sell at a later date.\")\n",
    "    else:\n",
    "        print(\"To buy you have a price greater than \" , output)\n",
    "       \n",
    "stocks(5)"
   ]
  },
  {
   "cell_type": "markdown",
   "metadata": {},
   "source": [
    "### Maximum Sum Sub Array\n",
    "\n",
    "Given an integer array `nums`, find the contiguous subarray(containin at least one number)which has the largest sum and return its sum.\n",
    "\n",
    "A sub array is a contiguous part of an array.\n",
    "\n",
    "Input: nums = [-2,1,-3,4,-1,2,1,-5,4]\n",
    "\n",
    "Output: 6\n",
    "\n",
    "Explanation: [4,-1,2,1} has the largest sum = 6."
   ]
  },
  {
   "cell_type": "code",
   "execution_count": 2,
   "metadata": {},
   "outputs": [
    {
     "name": "stdout",
     "output_type": "stream",
     "text": [
      "6\n"
     ]
    }
   ],
   "source": [
    "import numpy as np\n",
    "   \n",
    "def max_subarray(nums): \n",
    "    max_sum = 0\n",
    "    curr_sum = 0\n",
    "    sum_array = [] \n",
    "    \n",
    "    for num in nums:\n",
    "#         if (curr_sum + num < num):\n",
    "#             sum_array.clear()\n",
    "#             sum_array.append(num)             \n",
    "#         elif (curr_sum + num >=  max_sum):\n",
    "#             sum_array.append(num)\n",
    "            \n",
    "        curr_sum = max(curr_sum + num, num)\n",
    "        max_sum = max(max_sum, curr_sum)  \n",
    "           \n",
    "    return max_sum\n",
    "\n",
    "# Example usage\n",
    "nums = [-2,1,-3,4,-1,2,1,-5,4]\n",
    "max_sum = max_subarray(nums)\n",
    "\n",
    "print(max_sum)"
   ]
  },
  {
   "cell_type": "markdown",
   "metadata": {},
   "source": [
    "### Anagrams\n",
    "\n",
    "Two strings are anagrams if you can make one from the other by rearranging the letters.\n",
    "\n",
    "Write a function named is_anagram that takes two strings as its parameters.\n",
    "Your function should return True if the strings are anagrams, and False otherwise.\n",
    "\n",
    "For example, the call is_anagram(\"typhoon\", \"opython\") should return True\n",
    "while the call is_anagram(\"Alice\",\"Bob\") should return False."
   ]
  },
  {
   "cell_type": "code",
   "execution_count": 3,
   "metadata": {},
   "outputs": [
    {
     "data": {
      "text/plain": [
       "True"
      ]
     },
     "execution_count": 3,
     "metadata": {},
     "output_type": "execute_result"
    }
   ],
   "source": [
    "def is_anagram(string1,string2):\n",
    "    word1 = {}\n",
    "    word2 = {}\n",
    "    for letter in string1:\n",
    "        if letter.lower() in word1:\n",
    "            word1[letter.lower()] += 1\n",
    "        else:\n",
    "            word1[letter.lower()] = 1\n",
    "    \n",
    "    for letter in string2:\n",
    "        if letter.lower() in word2:\n",
    "            word2[letter.lower()] += 1\n",
    "        else:\n",
    "            word2[letter.lower()] = 1    \n",
    "            \n",
    "    return (word1 == word2)\n",
    "\n",
    "is_anagram(\"typhoon\", \"opython\")"
   ]
  },
  {
   "cell_type": "code",
   "execution_count": null,
   "metadata": {},
   "outputs": [],
   "source": []
  }
 ],
 "metadata": {
  "kernelspec": {
   "display_name": "Python 3 (ipykernel)",
   "language": "python",
   "name": "python3"
  },
  "language_info": {
   "codemirror_mode": {
    "name": "ipython",
    "version": 3
   },
   "file_extension": ".py",
   "mimetype": "text/x-python",
   "name": "python",
   "nbconvert_exporter": "python",
   "pygments_lexer": "ipython3",
   "version": "3.9.13"
  }
 },
 "nbformat": 4,
 "nbformat_minor": 2
}
